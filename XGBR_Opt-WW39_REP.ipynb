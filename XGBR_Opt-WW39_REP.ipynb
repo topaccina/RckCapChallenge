{
 "cells": [
  {
   "cell_type": "code",
   "execution_count": 1,
   "metadata": {},
   "outputs": [],
   "source": [
    "import pandas as pd\n",
    "import warnings\n",
    "import numpy as np\n",
    "warnings.filterwarnings('ignore')"
   ]
  },
  {
   "cell_type": "code",
   "execution_count": 2,
   "metadata": {},
   "outputs": [],
   "source": [
    "train_dataset=pd.read_csv('dataset/train_dataset.csv', index_col='date')\n",
    "validation_dataset=pd.read_csv('dataset/validation_dataset.csv',index_col='date')"
   ]
  },
  {
   "cell_type": "code",
   "execution_count": 3,
   "metadata": {},
   "outputs": [],
   "source": [
    "X=train_dataset.iloc[:,1:-2]\n",
    "y=train_dataset.target"
   ]
  },
  {
   "cell_type": "code",
   "execution_count": 4,
   "metadata": {},
   "outputs": [],
   "source": [
    "train=0.9\n",
    "test=0.1\n",
    "era=len(train_dataset.index.unique())\n",
    "train_era=int(era*train)\n",
    "test_era=era-train_era\n",
    "X_train=X[X.index<X.index.unique()[train_era]]\n",
    "y_train=y[y.index<y.index.unique()[train_era]]\n",
    "X_test=X[X.index>=X.index.unique()[train_era]]\n",
    "y_test=y[y.index>=y.index.unique()[train_era]]"
   ]
  },
  {
   "cell_type": "code",
   "execution_count": 5,
   "metadata": {},
   "outputs": [],
   "source": [
    "from sklearn.metrics import mean_squared_error\n",
    "from xgboost import XGBRegressor"
   ]
  },
  {
   "cell_type": "code",
   "execution_count": null,
   "metadata": {
    "scrolled": true
   },
   "outputs": [],
   "source": [
    "# Define error metrics\n",
    "from sklearn.metrics import mean_squared_error\n",
    "\n",
    "def rmse(y, y_pred):\n",
    "    return np.sqrt(mean_squared_error(y, y_pred))\n"
   ]
  },
  {
   "cell_type": "code",
   "execution_count": 9,
   "metadata": {},
   "outputs": [],
   "source": [
    "xgreg1= XGBRegressor(n_estimators=1000, max_depth=4, eta=0.1,\n",
    "                     subsample=0.9, colsample_bytree=0.2,learning_rate=0.1,gamma=0.25)"
   ]
  },
  {
   "cell_type": "code",
   "execution_count": 10,
   "metadata": {},
   "outputs": [
    {
     "name": "stdout",
     "output_type": "stream",
     "text": [
      "[0]\tvalidation_0-rmse:0.28883\n",
      "[1]\tvalidation_0-rmse:0.28834\n",
      "[2]\tvalidation_0-rmse:0.28808\n",
      "[3]\tvalidation_0-rmse:0.28778\n",
      "[4]\tvalidation_0-rmse:0.28757\n",
      "[5]\tvalidation_0-rmse:0.28738\n",
      "[6]\tvalidation_0-rmse:0.28720\n",
      "[7]\tvalidation_0-rmse:0.28700\n",
      "[8]\tvalidation_0-rmse:0.28693\n",
      "[9]\tvalidation_0-rmse:0.28680\n",
      "[10]\tvalidation_0-rmse:0.28677\n",
      "[11]\tvalidation_0-rmse:0.28669\n",
      "[12]\tvalidation_0-rmse:0.28661\n",
      "[13]\tvalidation_0-rmse:0.28654\n",
      "[14]\tvalidation_0-rmse:0.28650\n",
      "[15]\tvalidation_0-rmse:0.28652\n",
      "[16]\tvalidation_0-rmse:0.28649\n",
      "[17]\tvalidation_0-rmse:0.28643\n",
      "[18]\tvalidation_0-rmse:0.28638\n",
      "[19]\tvalidation_0-rmse:0.28641\n",
      "[20]\tvalidation_0-rmse:0.28638\n",
      "[21]\tvalidation_0-rmse:0.28638\n",
      "[22]\tvalidation_0-rmse:0.28634\n",
      "[23]\tvalidation_0-rmse:0.28633\n",
      "[24]\tvalidation_0-rmse:0.28629\n",
      "[25]\tvalidation_0-rmse:0.28626\n",
      "[26]\tvalidation_0-rmse:0.28627\n",
      "[27]\tvalidation_0-rmse:0.28624\n",
      "[28]\tvalidation_0-rmse:0.28617\n",
      "[29]\tvalidation_0-rmse:0.28619\n",
      "[30]\tvalidation_0-rmse:0.28618\n",
      "[31]\tvalidation_0-rmse:0.28618\n",
      "[32]\tvalidation_0-rmse:0.28614\n",
      "[33]\tvalidation_0-rmse:0.28611\n",
      "[34]\tvalidation_0-rmse:0.28606\n",
      "[35]\tvalidation_0-rmse:0.28605\n",
      "[36]\tvalidation_0-rmse:0.28608\n",
      "[37]\tvalidation_0-rmse:0.28604\n",
      "[38]\tvalidation_0-rmse:0.28600\n",
      "[39]\tvalidation_0-rmse:0.28605\n",
      "[40]\tvalidation_0-rmse:0.28601\n",
      "[41]\tvalidation_0-rmse:0.28598\n",
      "[42]\tvalidation_0-rmse:0.28597\n",
      "[43]\tvalidation_0-rmse:0.28596\n",
      "[44]\tvalidation_0-rmse:0.28596\n",
      "[45]\tvalidation_0-rmse:0.28597\n",
      "[46]\tvalidation_0-rmse:0.28595\n",
      "[47]\tvalidation_0-rmse:0.28597\n",
      "[48]\tvalidation_0-rmse:0.28594\n",
      "[49]\tvalidation_0-rmse:0.28597\n",
      "[50]\tvalidation_0-rmse:0.28598\n",
      "[51]\tvalidation_0-rmse:0.28596\n",
      "[52]\tvalidation_0-rmse:0.28599\n",
      "[53]\tvalidation_0-rmse:0.28597\n",
      "[54]\tvalidation_0-rmse:0.28595\n",
      "[55]\tvalidation_0-rmse:0.28599\n",
      "[56]\tvalidation_0-rmse:0.28595\n",
      "[57]\tvalidation_0-rmse:0.28595\n",
      "[58]\tvalidation_0-rmse:0.28594\n",
      "[59]\tvalidation_0-rmse:0.28591\n",
      "[60]\tvalidation_0-rmse:0.28595\n",
      "[61]\tvalidation_0-rmse:0.28595\n",
      "[62]\tvalidation_0-rmse:0.28592\n",
      "[63]\tvalidation_0-rmse:0.28595\n",
      "[64]\tvalidation_0-rmse:0.28595\n",
      "[65]\tvalidation_0-rmse:0.28593\n",
      "[66]\tvalidation_0-rmse:0.28596\n",
      "[67]\tvalidation_0-rmse:0.28600\n",
      "[68]\tvalidation_0-rmse:0.28598\n",
      "[69]\tvalidation_0-rmse:0.28600\n"
     ]
    }
   ],
   "source": [
    "xgreg1=xgreg1.fit(X_train,y_train,verbose=True,early_stopping_rounds=10,eval_metric='rmse',eval_set=[(X_test,y_test)])"
   ]
  },
  {
   "cell_type": "code",
   "execution_count": 11,
   "metadata": {},
   "outputs": [
    {
     "name": "stdout",
     "output_type": "stream",
     "text": [
      "rmse for train dataset: 0.27646204689870624\n",
      "rmse for test dataset: 0.2859118224537913\n"
     ]
    }
   ],
   "source": [
    "y_pred_train = xgreg1.predict(X_train)\n",
    "print('rmse for train dataset: {}'.format(rmse(y_train,y_pred_train)))\n",
    "\n",
    "y_pred_test = xgreg1.predict(X_test)\n",
    "print('rmse for test dataset: {}'.format(rmse(y_test,y_pred_test)))"
   ]
  },
  {
   "cell_type": "code",
   "execution_count": 12,
   "metadata": {},
   "outputs": [
    {
     "data": {
      "text/html": [
       "<div>\n",
       "<style scoped>\n",
       "    .dataframe tbody tr th:only-of-type {\n",
       "        vertical-align: middle;\n",
       "    }\n",
       "\n",
       "    .dataframe tbody tr th {\n",
       "        vertical-align: top;\n",
       "    }\n",
       "\n",
       "    .dataframe thead th {\n",
       "        text-align: right;\n",
       "    }\n",
       "</style>\n",
       "<table border=\"1\" class=\"dataframe\">\n",
       "  <thead>\n",
       "    <tr style=\"text-align: right;\">\n",
       "      <th></th>\n",
       "      <th>prediction</th>\n",
       "      <th>label</th>\n",
       "      <th>delta</th>\n",
       "    </tr>\n",
       "    <tr>\n",
       "      <th>date</th>\n",
       "      <th></th>\n",
       "      <th></th>\n",
       "      <th></th>\n",
       "    </tr>\n",
       "  </thead>\n",
       "  <tbody>\n",
       "    <tr>\n",
       "      <th>2021-05-30</th>\n",
       "      <td>0.555663</td>\n",
       "      <td>0.297571</td>\n",
       "      <td>0.258092</td>\n",
       "    </tr>\n",
       "    <tr>\n",
       "      <th>2021-05-30</th>\n",
       "      <td>0.487396</td>\n",
       "      <td>0.022267</td>\n",
       "      <td>0.465128</td>\n",
       "    </tr>\n",
       "    <tr>\n",
       "      <th>2021-05-30</th>\n",
       "      <td>0.559689</td>\n",
       "      <td>0.265182</td>\n",
       "      <td>0.294507</td>\n",
       "    </tr>\n",
       "    <tr>\n",
       "      <th>2021-05-30</th>\n",
       "      <td>0.533107</td>\n",
       "      <td>0.500000</td>\n",
       "      <td>0.033107</td>\n",
       "    </tr>\n",
       "    <tr>\n",
       "      <th>2021-05-30</th>\n",
       "      <td>0.524820</td>\n",
       "      <td>0.305668</td>\n",
       "      <td>0.219152</td>\n",
       "    </tr>\n",
       "    <tr>\n",
       "      <th>...</th>\n",
       "      <td>...</td>\n",
       "      <td>...</td>\n",
       "      <td>...</td>\n",
       "    </tr>\n",
       "    <tr>\n",
       "      <th>2021-09-26</th>\n",
       "      <td>0.336473</td>\n",
       "      <td>0.602972</td>\n",
       "      <td>-0.266500</td>\n",
       "    </tr>\n",
       "    <tr>\n",
       "      <th>2021-09-26</th>\n",
       "      <td>0.499980</td>\n",
       "      <td>0.477707</td>\n",
       "      <td>0.022273</td>\n",
       "    </tr>\n",
       "    <tr>\n",
       "      <th>2021-09-26</th>\n",
       "      <td>0.418128</td>\n",
       "      <td>0.259023</td>\n",
       "      <td>0.159104</td>\n",
       "    </tr>\n",
       "    <tr>\n",
       "      <th>2021-09-26</th>\n",
       "      <td>0.545007</td>\n",
       "      <td>0.244161</td>\n",
       "      <td>0.300846</td>\n",
       "    </tr>\n",
       "    <tr>\n",
       "      <th>2021-09-26</th>\n",
       "      <td>0.481962</td>\n",
       "      <td>0.067941</td>\n",
       "      <td>0.414021</td>\n",
       "    </tr>\n",
       "  </tbody>\n",
       "</table>\n",
       "<p>9218 rows × 3 columns</p>\n",
       "</div>"
      ],
      "text/plain": [
       "            prediction     label     delta\n",
       "date                                      \n",
       "2021-05-30    0.555663  0.297571  0.258092\n",
       "2021-05-30    0.487396  0.022267  0.465128\n",
       "2021-05-30    0.559689  0.265182  0.294507\n",
       "2021-05-30    0.533107  0.500000  0.033107\n",
       "2021-05-30    0.524820  0.305668  0.219152\n",
       "...                ...       ...       ...\n",
       "2021-09-26    0.336473  0.602972 -0.266500\n",
       "2021-09-26    0.499980  0.477707  0.022273\n",
       "2021-09-26    0.418128  0.259023  0.159104\n",
       "2021-09-26    0.545007  0.244161  0.300846\n",
       "2021-09-26    0.481962  0.067941  0.414021\n",
       "\n",
       "[9218 rows x 3 columns]"
      ]
     },
     "execution_count": 12,
     "metadata": {},
     "output_type": "execute_result"
    }
   ],
   "source": [
    "predictionXG1 = pd.DataFrame()\n",
    "predictionXG1['date'] = list(X_test.index)\n",
    "predictionXG1.set_index(['date'],inplace=True)\n",
    "predictionXG1['prediction'] = y_pred_test\n",
    "predictionXG1['label']=y_test\n",
    "predictionXG1['delta']=predictionXG1.prediction-predictionXG1.label\n",
    "predictionXG1"
   ]
  },
  {
   "cell_type": "code",
   "execution_count": 13,
   "metadata": {
    "scrolled": true
   },
   "outputs": [],
   "source": [
    "# Use the trained Logistic Regression model to make prediction on latest data\n",
    "\n",
    "X_validation = validation_dataset.iloc[:, 1:-2]\n",
    "y_validation = xgreg1.predict(X_validation)\n",
    "\n",
    "#y_validation"
   ]
  },
  {
   "cell_type": "code",
   "execution_count": 14,
   "metadata": {},
   "outputs": [
    {
     "data": {
      "text/html": [
       "<div>\n",
       "<style scoped>\n",
       "    .dataframe tbody tr th:only-of-type {\n",
       "        vertical-align: middle;\n",
       "    }\n",
       "\n",
       "    .dataframe tbody tr th {\n",
       "        vertical-align: top;\n",
       "    }\n",
       "\n",
       "    .dataframe thead th {\n",
       "        text-align: right;\n",
       "    }\n",
       "</style>\n",
       "<table border=\"1\" class=\"dataframe\">\n",
       "  <thead>\n",
       "    <tr style=\"text-align: right;\">\n",
       "      <th></th>\n",
       "      <th>symbol</th>\n",
       "      <th>prediction</th>\n",
       "    </tr>\n",
       "  </thead>\n",
       "  <tbody>\n",
       "    <tr>\n",
       "      <th>0</th>\n",
       "      <td>SALT</td>\n",
       "      <td>0.526240</td>\n",
       "    </tr>\n",
       "    <tr>\n",
       "      <th>1</th>\n",
       "      <td>XRP</td>\n",
       "      <td>0.525340</td>\n",
       "    </tr>\n",
       "    <tr>\n",
       "      <th>2</th>\n",
       "      <td>PRE</td>\n",
       "      <td>0.473191</td>\n",
       "    </tr>\n",
       "    <tr>\n",
       "      <th>3</th>\n",
       "      <td>QSP</td>\n",
       "      <td>0.474419</td>\n",
       "    </tr>\n",
       "    <tr>\n",
       "      <th>4</th>\n",
       "      <td>PAY</td>\n",
       "      <td>0.533491</td>\n",
       "    </tr>\n",
       "  </tbody>\n",
       "</table>\n",
       "</div>"
      ],
      "text/plain": [
       "  symbol  prediction\n",
       "0   SALT    0.526240\n",
       "1    XRP    0.525340\n",
       "2    PRE    0.473191\n",
       "3    QSP    0.474419\n",
       "4    PAY    0.533491"
      ]
     },
     "execution_count": 14,
     "metadata": {},
     "output_type": "execute_result"
    }
   ],
   "source": [
    "prediction = pd.DataFrame()\n",
    "prediction['symbol'] = list(validation_dataset.symbol)\n",
    "prediction['prediction'] = y_validation\n",
    "prediction.head()"
   ]
  },
  {
   "cell_type": "code",
   "execution_count": 15,
   "metadata": {},
   "outputs": [
    {
     "name": "stdout",
     "output_type": "stream",
     "text": [
      "symbol matched!\n",
      "column counts ok!\n"
     ]
    }
   ],
   "source": [
    "#check if y_latest is in accordance to shape for submission\n",
    "if set(prediction.symbol) == set(validation_dataset.symbol):\n",
    "    print('symbol matched!')\n",
    "else:\n",
    "    print('symbol unmatched, the symbol in prediction df must match the symbol in validation_dataset...')\n",
    "    \n",
    "if prediction.shape[1] == 2:\n",
    "    print('column counts ok!')\n",
    "else:\n",
    "    print('It should have 2 columns, first column with symbol, second with prediction...')\n"
   ]
  },
  {
   "cell_type": "code",
   "execution_count": 16,
   "metadata": {},
   "outputs": [],
   "source": [
    "#Output submission as .csv file\n",
    "prediction.to_csv('prediction/prediction.csv', index = False, header = None)"
   ]
  },
  {
   "cell_type": "code",
   "execution_count": 17,
   "metadata": {},
   "outputs": [
    {
     "data": {
      "text/plain": [
       "0.23198336362838745"
      ]
     },
     "execution_count": 17,
     "metadata": {},
     "output_type": "execute_result"
    }
   ],
   "source": [
    "prediction.prediction.min()"
   ]
  },
  {
   "cell_type": "code",
   "execution_count": 18,
   "metadata": {},
   "outputs": [
    {
     "data": {
      "text/plain": [
       "0.6875046491622925"
      ]
     },
     "execution_count": 18,
     "metadata": {},
     "output_type": "execute_result"
    }
   ],
   "source": [
    "prediction.prediction.max()"
   ]
  },
  {
   "cell_type": "code",
   "execution_count": null,
   "metadata": {},
   "outputs": [],
   "source": []
  }
 ],
 "metadata": {
  "kernelspec": {
   "display_name": "Python 3",
   "language": "python",
   "name": "python3"
  },
  "language_info": {
   "codemirror_mode": {
    "name": "ipython",
    "version": 3
   },
   "file_extension": ".py",
   "mimetype": "text/x-python",
   "name": "python",
   "nbconvert_exporter": "python",
   "pygments_lexer": "ipython3",
   "version": "3.8.3"
  }
 },
 "nbformat": 4,
 "nbformat_minor": 4
}
